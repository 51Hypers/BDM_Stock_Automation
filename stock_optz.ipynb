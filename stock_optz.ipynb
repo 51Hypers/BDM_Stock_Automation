{
  "nbformat": 4,
  "nbformat_minor": 0,
  "metadata": {
    "colab": {
      "provenance": []
    },
    "kernelspec": {
      "name": "python3",
      "display_name": "Python 3"
    },
    "language_info": {
      "name": "python"
    }
  },
  "cells": [
    {
      "cell_type": "code",
      "execution_count": null,
      "metadata": {
        "id": "38KnkyiupI2c"
      },
      "outputs": [],
      "source": [
        "import pandas as pd\n",
        "\n",
        "# Assumes the patient data has columns 'DATE', 'PName', and 'Department'\n",
        "\n",
        "def adjust_inventory(patient_data, medicine_data, stock_threshold=10):\n",
        "    recommendations = []\n",
        "\n",
        "    # Preprocessing patient data\n",
        "    patient_data['DATE'] = pd.to_datetime(patient_data['DATE'])  # Ensuring DATE is datetime type\n",
        "    patient_data['Month'] = patient_data['DATE'].dt.month_name()  # Extract month for analysis\n",
        "\n",
        "    # Calculate monthly patient counts per department\n",
        "    monthly_visits = patient_data.groupby(['Department', 'Month']).size().reset_index(name='Patient_Count')\n",
        "\n",
        "    # Loop through each department in patient data\n",
        "    for department in monthly_visits['Department'].unique():\n",
        "        # Get monthly patient counts for the current department\n",
        "        dept_patient_counts = monthly_visits[monthly_visits['Department'] == department]\n",
        "        # Filter medicines used by the department (based on Category Name)\n",
        "        dept_medicines = medicine_data[medicine_data['Category Name'] == department]\n",
        "\n",
        "        # Calculate average monthly patient count for demand estimation\n",
        "        avg_patient_count = dept_patient_counts['Patient_Count'].mean()\n",
        "\n",
        "        # Loop through medicines and make stock adjustment recommendations\n",
        "        for _, row in dept_medicines.iterrows():\n",
        "            active_stock = row['Active Stock']\n",
        "            medicine_name = row['Medicine Name']\n",
        "            category = row['Category Name']\n",
        "\n",
        "            # Adjust stock based on threshold or predicted demand\n",
        "            if active_stock < stock_threshold:\n",
        "                recommendation = (f\"Recommendation: Increase stock of '{medicine_name}' in '{category}'. \"\n",
        "                                  f\"Current active stock is {active_stock}, below the threshold of {stock_threshold}.\")\n",
        "                recommendations.append(recommendation)\n",
        "            elif avg_patient_count > active_stock:\n",
        "                recommendation = (f\"Recommendation: Consider increasing '{medicine_name}' in '{category}' to meet demand. \"\n",
        "                                  f\"Avg monthly patients: {avg_patient_count}, but active stock is {active_stock}.\")\n",
        "                recommendations.append(recommendation)\n",
        "            else:\n",
        "                recommendation = (f\"Stock for '{medicine_name}' in '{category}' is adequate.\")\n",
        "                recommendations.append(recommendation)\n",
        "\n",
        "    return recommendations\n",
        "\n",
        "# Assuming `patient_data.csv` is the input file with columns ['DATE', 'PName', 'Department'] and `medicine_data` as previously defined\n",
        "def main():\n",
        "    # Load patient data\n",
        "    patient_data = pd.read_csv('/content/patient_consolidated.csv')  # Replace 'patient_data.csv' with the actual file path\n",
        "\n",
        "    # Sample medicine data as provided\n",
        "    medicine_data = pd.DataFrame({\n",
        "        'Medicine Name': ['TYNOR THUMB SPICA', '2 WAY FOLEYS BALLON CATHETER FG-16', 'A TO Z NS NEW STRIP OF 15 TABLETS',\n",
        "                          'A TO Z NS STRAWBERRY FLAVOUR BOTTLE OF 15ML DROPS', 'AAPSON C FIT HINGED KNEE SUPPORT M'],\n",
        "        'Category Name': ['GENERAL SURGERY', 'GENERAL MEDICINE', 'GENERAL MEDICINE', 'PED', 'ORTHO'],\n",
        "        'Item Type': ['SPINLT', 'PACKET', 'PACKET', 'PACKET', 'BOX'],\n",
        "        'Opening Stock': [0, 4, 1, 80, 0],\n",
        "        'Purchase Qty': [4, 5, 0, 905, 23],\n",
        "        'Closing Quantity': [2, 4, 0, 70, 5],\n",
        "        'Active Stock': [2, 5, 1, 915, 18]\n",
        "    })\n",
        "\n",
        "    # Generate inventory adjustment recommendations\n",
        "    recommendations = adjust_inventory(patient_data, medicine_data)\n",
        "\n",
        "    # Print recommendations\n",
        "    for rec in recommendations:\n",
        "        print(rec)\n",
        "\n",
        "\n",
        "main()"
      ]
    }
  ]
}